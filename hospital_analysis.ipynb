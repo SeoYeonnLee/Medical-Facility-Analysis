{
 "cells": [
  {
   "cell_type": "code",
   "execution_count": 1,
   "id": "545fe26c",
   "metadata": {},
   "outputs": [],
   "source": [
    "import pandas as pd\n",
    "import numpy as np\n",
    "import matplotlib.pyplot as plt\n",
    "import seaborn as sns\n",
    "sns.set_theme(style='whitegrid')\n",
    "sns.set_palette('Set2', n_colors=10)\n",
    "plt.rc('font', family='malgun gothic')\n",
    "plt.rc('axes', unicode_minus=False)\n",
    "\n",
    "import streamlit as st\n",
    "from datetime import date"
   ]
  },
  {
   "cell_type": "markdown",
   "id": "0d7164c6",
   "metadata": {},
   "source": [
    "### 병원데이터"
   ]
  },
  {
   "cell_type": "code",
   "execution_count": 2,
   "id": "7cdd9a22",
   "metadata": {},
   "outputs": [],
   "source": [
    "df1 = pd.read_csv('data/1. 병원정보서비스 2022.3.csv', encoding='cp949')"
   ]
  },
  {
   "cell_type": "code",
   "execution_count": 3,
   "id": "857d57eb",
   "metadata": {},
   "outputs": [],
   "source": [
    "df1 = df1.drop_duplicates()"
   ]
  },
  {
   "cell_type": "code",
   "execution_count": 4,
   "id": "ece99686",
   "metadata": {
    "scrolled": true
   },
   "outputs": [],
   "source": [
    "df1 = df1.drop(['종별코드'], axis=1)\n",
    "df1 = df1.drop(['시도코드'], axis=1)\n",
    "df1 = df1.drop(['시군구코드'], axis=1)\n",
    "df1 = df1.drop(['읍면동'], axis=1)\n",
    "df1 = df1.drop(['우편번호'], axis=1)\n",
    "df1 = df1.drop(['주소'], axis=1)\n",
    "df1 = df1.drop(['전화번호'], axis=1)\n",
    "df1 = df1.drop(['병원URL'], axis=1)\n",
    "df1 = df1.drop(['개설일자'], axis=1)"
   ]
  },
  {
   "cell_type": "code",
   "execution_count": 5,
   "id": "9091f4c6",
   "metadata": {},
   "outputs": [
    {
     "name": "stderr",
     "output_type": "stream",
     "text": [
      "2022-06-12 16:45:34.135 INFO    numexpr.utils: NumExpr defaulting to 8 threads.\n"
     ]
    }
   ],
   "source": [
    "c = df1['시도코드명'] == '부산'\n",
    "df1.loc[c, '시군구코드명'] = df1.loc[c, '시군구코드명'].str.replace('부산', '')\n",
    "\n",
    "c = df1['시도코드명'] == '대구'\n",
    "df1.loc[c, '시군구코드명'] = df1.loc[c, '시군구코드명'].str.replace('대구', '')\n",
    "\n",
    "c = df1['시도코드명'] == '인천'\n",
    "df1.loc[c, '시군구코드명'] = df1.loc[c, '시군구코드명'].str.replace('인천', '')\n",
    "\n",
    "c = df1['시도코드명'] == '대전'\n",
    "df1.loc[c, '시군구코드명'] = df1.loc[c, '시군구코드명'].str.replace('대전', '')\n",
    "\n",
    "c = df1['시도코드명'] == '광주'\n",
    "df1.loc[c, '시군구코드명'] = df1.loc[c, '시군구코드명'].str.replace('광주', '')\n",
    "\n",
    "c = df1['시도코드명'] == '울산'\n",
    "df1.loc[c, '시군구코드명'] = df1.loc[c, '시군구코드명'].str.replace('울산', '')\n",
    "\n",
    "df1.insert(5, '시도_군구', (df1['시도코드명'] + ' ' + df1['시군구코드명']))"
   ]
  },
  {
   "cell_type": "markdown",
   "id": "a95c3a47",
   "metadata": {},
   "source": [
    "### 인구데이터"
   ]
  },
  {
   "cell_type": "code",
   "execution_count": 6,
   "id": "0000a321",
   "metadata": {},
   "outputs": [],
   "source": [
    "pop = pd.read_csv('data/202203_202203_연령별인구현황_월간.csv', encoding='cp949')"
   ]
  },
  {
   "cell_type": "code",
   "execution_count": 7,
   "id": "977aa736",
   "metadata": {},
   "outputs": [],
   "source": [
    "pop = pop.drop(['2022년03월_계_연령구간인구수'], axis=1)\n",
    "\n",
    "col = ['행정구역', '총 인구수', '10세 미만', '10대', '20대', '30대', '40대', '50대', '60대', '70대', '80대', '90대', '100세 이상']\n",
    "pop.columns = col\n",
    "\n",
    "regions = ['전국', '서울', '부산', '대구', '인천', '광주', '대전', '울산', '세종시', '경기', '강원', '충북', '충남', '전북', '전남', '경북', '경남', '제주']\n",
    "pop['행정구역'] = regions"
   ]
  },
  {
   "cell_type": "code",
   "execution_count": 8,
   "id": "18d03516",
   "metadata": {},
   "outputs": [],
   "source": [
    "for i in pop.columns:\n",
    "    if i == '행정구역':\n",
    "        continue\n",
    "    else:\n",
    "        pop[i] = pop[i].str.replace(',','')\n",
    "        pop[i] = pop[i].astype('int')"
   ]
  },
  {
   "cell_type": "code",
   "execution_count": 9,
   "id": "32179e39",
   "metadata": {},
   "outputs": [],
   "source": [
    "pop_total = pop[['행정구역', '총 인구수']]\n",
    "pop_total = pop_total.drop(0)\n",
    "pop_total = pop_total.set_index('행정구역')"
   ]
  },
  {
   "cell_type": "markdown",
   "id": "9ebbcf83",
   "metadata": {},
   "source": [
    "### 응급실데이터"
   ]
  },
  {
   "cell_type": "code",
   "execution_count": 10,
   "id": "7c0a6061",
   "metadata": {},
   "outputs": [],
   "source": [
    "df4 = pd.read_csv('data/4. 의료기관별상세정보서비스 02세부정보 2022.3.csv', encoding='cp949')"
   ]
  },
  {
   "cell_type": "code",
   "execution_count": 11,
   "id": "f5192e22",
   "metadata": {},
   "outputs": [],
   "source": [
    "df4 = df4.drop_duplicates()"
   ]
  },
  {
   "cell_type": "code",
   "execution_count": 12,
   "id": "0e4679dc",
   "metadata": {},
   "outputs": [],
   "source": [
    "col_4 = ['암호화요양기호', '요양기관명', '응급실 주간운영여부', '응급실 야간운영여부']\n",
    "df4 = df4[col_4]"
   ]
  },
  {
   "cell_type": "code",
   "execution_count": 13,
   "id": "8ff7de96",
   "metadata": {},
   "outputs": [],
   "source": [
    "emer = ['Y', '당직의사만 근무합니다. 일반상담 가능합니다.', '정상 진료 (10:00~14:00)']\n",
    "c1 = df4['응급실 주간운영여부'].isin(emer)\n",
    "df4.loc[c1, '응급실 주간운영여부'] = 'Y'"
   ]
  },
  {
   "cell_type": "code",
   "execution_count": 14,
   "id": "2abae65c",
   "metadata": {},
   "outputs": [],
   "source": [
    "c2 = (~df4['응급실 주간운영여부'].isin(emer))\n",
    "df4.loc[c2, '응급실 주간운영여부'] = 'N'"
   ]
  },
  {
   "cell_type": "code",
   "execution_count": 15,
   "id": "d6ba4bfd",
   "metadata": {},
   "outputs": [],
   "source": [
    "df4['응급실 야간운영여부'] = df4['응급실 야간운영여부'].fillna('N')"
   ]
  },
  {
   "cell_type": "code",
   "execution_count": 16,
   "id": "1b16e4ee",
   "metadata": {},
   "outputs": [],
   "source": [
    "emer = df1[['암호화요양기호', '요양기관명', '종별코드명', '시도코드명', '시도_군구', 'x좌표', 'y좌표']]"
   ]
  },
  {
   "cell_type": "code",
   "execution_count": 17,
   "id": "6847499e",
   "metadata": {},
   "outputs": [],
   "source": [
    "emer = pd.merge(emer, df4, on='암호화요양기호', how='inner')"
   ]
  },
  {
   "cell_type": "code",
   "execution_count": 18,
   "id": "7f05e201",
   "metadata": {},
   "outputs": [],
   "source": [
    "emer = emer.drop('요양기관명_y', axis=1)"
   ]
  },
  {
   "cell_type": "code",
   "execution_count": 19,
   "id": "f3f7c5dc",
   "metadata": {},
   "outputs": [],
   "source": [
    "my_col = ['요양기호', '요양기관명', '종별코드명', '시도','시도_군구', 'x좌표', 'y좌표', '응급실 주간운영여부', '응급실 야간운영여부']\n",
    "emer.columns = my_col"
   ]
  },
  {
   "cell_type": "code",
   "execution_count": 20,
   "id": "838977cf",
   "metadata": {},
   "outputs": [],
   "source": [
    "# 응급실 운영여부 column 생성\n",
    "\n",
    "c1 = (emer['응급실 주간운영여부'] == 'Y')\n",
    "c2 = (emer['응급실 야간운영여부'] == 'Y')\n",
    "\n",
    "emer.loc[c1|c2, '응급실 운영여부'] = 'Y'\n",
    "emer['응급실 운영여부'] = emer['응급실 운영여부'].fillna('N')"
   ]
  },
  {
   "cell_type": "code",
   "execution_count": 21,
   "id": "33244211",
   "metadata": {},
   "outputs": [],
   "source": [
    "# 응급실 운영하는 병원만 추출\n",
    "\n",
    "emer_y = emer[emer['응급실 운영여부'] == 'Y']"
   ]
  },
  {
   "cell_type": "code",
   "execution_count": 22,
   "id": "5912dbb1",
   "metadata": {},
   "outputs": [],
   "source": [
    "# 지역별 응급실 수\n",
    "\n",
    "region_emer_y = emer_y.groupby('시도')[['요양기호']].count().reset_index()\n",
    "region_emer_y = region_emer_y.rename({'요양기호':'응급실 수'}, axis=1)"
   ]
  },
  {
   "cell_type": "code",
   "execution_count": 23,
   "id": "c437a070",
   "metadata": {},
   "outputs": [],
   "source": [
    "region_hos = emer.groupby('시도')[['요양기호']].count().reset_index()\n",
    "region_hos = region_hos.rename({'요양기호':'병원수'}, axis=1)"
   ]
  },
  {
   "cell_type": "code",
   "execution_count": 24,
   "id": "98dd1c3e",
   "metadata": {},
   "outputs": [],
   "source": [
    "region_emer = pd.merge(region_emer_y,region_hos)\n",
    "region_emer['병원 대비 응급실 비율'] = (region_emer['응급실 수'] / region_emer['병원수'])\n",
    "region_emer = region_emer.sort_values('병원 대비 응급실 비율', ascending=False).reset_index(drop=True)"
   ]
  },
  {
   "cell_type": "code",
   "execution_count": 25,
   "id": "aaaf377d",
   "metadata": {},
   "outputs": [],
   "source": [
    "eme = pd.merge(region_emer, pop_total, left_on='시도', right_on='행정구역')\n",
    "eme['인구 대비 응급실 비율'] = (eme['응급실 수'] / eme['총 인구수'])\n",
    "eme = eme.sort_values(by='인구 대비 응급실 비율', ascending=False).reset_index(drop=True)"
   ]
  },
  {
   "cell_type": "code",
   "execution_count": 26,
   "id": "7cc1090e",
   "metadata": {},
   "outputs": [],
   "source": [
    "em = emer[['요양기관명', '종별코드명', '시도', '시도_군구', '응급실 주간운영여부', '응급실 야간운영여부', '응급실 운영여부']]"
   ]
  },
  {
   "cell_type": "markdown",
   "id": "590825a4",
   "metadata": {},
   "source": [
    "### 진료과목데이터"
   ]
  },
  {
   "cell_type": "code",
   "execution_count": 27,
   "id": "272d0901",
   "metadata": {},
   "outputs": [],
   "source": [
    "df5 = pd.read_csv('data/5. 의료기관별상세정보서비스 03진료과목정보 2022.3.csv', encoding='cp949')"
   ]
  },
  {
   "cell_type": "code",
   "execution_count": 28,
   "id": "6ebb6ded",
   "metadata": {},
   "outputs": [],
   "source": [
    "df5 = df5.drop_duplicates()"
   ]
  },
  {
   "cell_type": "code",
   "execution_count": 29,
   "id": "bad76109",
   "metadata": {},
   "outputs": [],
   "source": [
    "col_5 = ['암호화요양기호', '요양기관명', '진료과목코드명']\n",
    "df5 = df5[col_5]"
   ]
  },
  {
   "cell_type": "code",
   "execution_count": 30,
   "id": "527ecbfd",
   "metadata": {},
   "outputs": [],
   "source": [
    "sub = df1[['암호화요양기호', '요양기관명', '종별코드명', '시도코드명', '시도_군구', 'x좌표', 'y좌표']]"
   ]
  },
  {
   "cell_type": "code",
   "execution_count": 31,
   "id": "c4f733a9",
   "metadata": {},
   "outputs": [],
   "source": [
    "sub = pd.merge(sub, df5, on='암호화요양기호', how='inner')"
   ]
  },
  {
   "cell_type": "code",
   "execution_count": 32,
   "id": "f33d72a1",
   "metadata": {},
   "outputs": [],
   "source": [
    "sub = sub.drop('요양기관명_y', axis=1)"
   ]
  },
  {
   "cell_type": "code",
   "execution_count": 33,
   "id": "e4391aa5",
   "metadata": {
    "scrolled": true
   },
   "outputs": [],
   "source": [
    "my_col = ['요양기호', '요양기관명', '종별코드명', '시도', '시도_군구', 'x좌표', 'y좌표', '진료과목']\n",
    "sub.columns = my_col"
   ]
  },
  {
   "cell_type": "code",
   "execution_count": 34,
   "id": "d2fdc532",
   "metadata": {},
   "outputs": [],
   "source": [
    "sub = sub.drop('요양기호', axis=1)"
   ]
  },
  {
   "cell_type": "markdown",
   "id": "732ace1d",
   "metadata": {},
   "source": [
    "### 의사수"
   ]
  },
  {
   "cell_type": "code",
   "execution_count": 35,
   "id": "c0fc104e",
   "metadata": {},
   "outputs": [],
   "source": [
    "인천 = df1[df1['시도코드명']=='인천']\n",
    "강원 = df1[df1['시도코드명']=='강원']\n",
    "서울 = df1[df1['시도코드명']=='서울']\n",
    "대구 = df1[df1['시도코드명']=='대구']\n",
    "경남 = df1[df1['시도코드명']=='경남']\n",
    "경기 = df1[df1['시도코드명']=='경기']\n",
    "충남 = df1[df1['시도코드명']=='충남']\n",
    "부산 = df1[df1['시도코드명']=='부산']\n",
    "전북 = df1[df1['시도코드명']=='전북']\n",
    "광주 = df1[df1['시도코드명']=='광주']\n",
    "대전 = df1[df1['시도코드명']=='대전']\n",
    "충북 = df1[df1['시도코드명']=='충북']\n",
    "울산 = df1[df1['시도코드명']=='울산']\n",
    "전남 = df1[df1['시도코드명']=='전남']\n",
    "경북 = df1[df1['시도코드명']=='경북']\n",
    "세종시 = df1[df1['시도코드명']=='세종시']\n",
    "제주 = df1[df1['시도코드명']=='제주']"
   ]
  },
  {
   "cell_type": "code",
   "execution_count": 36,
   "id": "6e9617ea",
   "metadata": {},
   "outputs": [],
   "source": [
    "# 외과\n",
    "\n",
    "col3=['의과일반의 의원수', '의과인턴 의사수', '의과레지던트 의사수', '의과전문의 의사수']\n",
    "\n",
    "incheon_doc = 인천.iloc[:,[7,8,9,10]].sum().sum()\n",
    "gangwon_doc = 강원.iloc[:,[7,8,9,10]].sum().sum()\n",
    "seoul_doc = 서울.iloc[:,[7,8,9,10]].sum().sum()\n",
    "daegu_doc = 대구.iloc[:,[7,8,9,10]].sum().sum()\n",
    "gyeongnam_doc = 경남.iloc[:,[7,8,9,10]].sum().sum()\n",
    "kyeonggi_doc = 경기.iloc[:,[7,8,9,10]].sum().sum()\n",
    "chungnam_doc = 충남.iloc[:,[7,8,9,10]].sum().sum()\n",
    "busan_doc = 부산.iloc[:,[7,8,9,10]].sum().sum()\n",
    "jeonbuk_doc = 전북.iloc[:,[7,8,9,10]].sum().sum()\n",
    "gwangju_doc = 광주.iloc[:,[7,8,9,10]].sum().sum()\n",
    "daejeon_doc = 대전.iloc[:,[7,8,9,10]].sum().sum()\n",
    "chungbuk_doc = 충북.iloc[:,[7,8,9,10]].sum().sum()\n",
    "ulsan_doc = 울산.iloc[:,[7,8,9,10]].sum().sum()\n",
    "jeonnam_doc = 전남.iloc[:,[7,8,9,10]].sum().sum()\n",
    "gyeongbuk_doc = 경북.iloc[:,[7,8,9,10]].sum().sum()\n",
    "sejong_doc = 세종시.iloc[:,[7,8,9,10]].sum().sum()\n",
    "jeju_doc = 제주.iloc[:,[7,8,9,10]].sum().sum()\n",
    "\n",
    "raw_data = {'지역' : ['인천', '강원', '서울', '대구', '경남', '경기', '충남', '부산', '전북', \n",
    "                    '광주', '대전', '충북', '울산', '전남', '경북', '세종시','제주'],\n",
    "           '외과 의사수' : [incheon_doc, gangwon_doc, seoul_doc, daegu_doc, gyeongnam_doc, kyeonggi_doc, chungnam_doc, busan_doc,\n",
    "          jeonbuk_doc, gwangju_doc, daejeon_doc, chungbuk_doc, ulsan_doc, jeonnam_doc, gyeongbuk_doc, sejong_doc, jeju_doc]}\n",
    "\n",
    "data_doc = pd.DataFrame(raw_data)\n",
    "data_doc = data_doc.set_index(\"지역\")"
   ]
  },
  {
   "cell_type": "code",
   "execution_count": 37,
   "id": "37d428a3",
   "metadata": {
    "scrolled": true
   },
   "outputs": [],
   "source": [
    "doctor = pd.concat([pop_total, data_doc], axis=1)\n",
    "\n",
    "doctor['인구 당 외과의 비율'] = (doctor['외과 의사수'] / doctor['총 인구수']) *100"
   ]
  },
  {
   "cell_type": "code",
   "execution_count": 38,
   "id": "f20c6d27",
   "metadata": {
    "scrolled": true
   },
   "outputs": [],
   "source": [
    "# 치과\n",
    "\n",
    "incheon_den = 인천.iloc[:,[11,12,13,14]].sum().sum()\n",
    "gangwon_den = 강원.iloc[:,[11,12,13,14]].sum().sum()\n",
    "seoul_den = 서울.iloc[:,[11,12,13,14]].sum().sum()\n",
    "daegu_den = 대구.iloc[:,[11,12,13,14]].sum().sum()\n",
    "gyeongnam_den = 경남.iloc[:,[11,12,13,14]].sum().sum()\n",
    "kyeonggi_den = 경기.iloc[:,[11,12,13,14]].sum().sum()\n",
    "chungnam_den = 충남.iloc[:,[11,12,13,14]].sum().sum()\n",
    "busan_den = 부산.iloc[:,[11,12,13,14]].sum().sum()\n",
    "jeonbuk_den = 전북.iloc[:,[11,12,13,14]].sum().sum()\n",
    "gwangju_den = 광주.iloc[:,[11,12,13,14]].sum().sum()\n",
    "daejeon_den = 대전.iloc[:,[11,12,13,14]].sum().sum()\n",
    "chungbuk_den = 충북.iloc[:,[11,12,13,14]].sum().sum()\n",
    "ulsan_den = 울산.iloc[:,[11,12,13,14]].sum().sum()\n",
    "jeonnam_den = 전남.iloc[:,[11,12,13,14]].sum().sum()\n",
    "gyeongbuk_den = 경북.iloc[:,[11,12,13,14]].sum().sum()\n",
    "sejong_den = 세종시.iloc[:,[11,12,13,14]].sum().sum()\n",
    "jeju_den = 제주.iloc[:,[11,12,13,14]].sum().sum()\n",
    "\n",
    "raw_data = {'지역' : ['인천', '강원', '서울', '대구', '경남', '경기', '충남', '부산', '전북', \n",
    "                    '광주', '대전', '충북', '울산', '전남', '경북', '세종시','제주'],\n",
    "           '치과 의사수' : [incheon_den, gangwon_den, seoul_den, daegu_den, gyeongnam_den, kyeonggi_den, chungnam_den, busan_den,\n",
    "          jeonbuk_den, gwangju_den, daejeon_den, chungbuk_den, ulsan_den, jeonnam_den, gyeongbuk_den, sejong_den, jeju_den]}\n",
    "data_den = pd.DataFrame(raw_data)\n",
    "data_den = data_den.set_index(\"지역\")"
   ]
  },
  {
   "cell_type": "code",
   "execution_count": 39,
   "id": "24ce52fc",
   "metadata": {},
   "outputs": [],
   "source": [
    "doctor = pd.concat([doctor, data_den], axis=1)\n",
    "doctor['인구 당 치과의 비율'] = (doctor['치과 의사수'] / doctor['총 인구수']) *100"
   ]
  },
  {
   "cell_type": "code",
   "execution_count": 40,
   "id": "afb3285f",
   "metadata": {
    "scrolled": true
   },
   "outputs": [],
   "source": [
    "# 한의과\n",
    "\n",
    "incheon_han = 인천.iloc[:,[15,16,17,18]].sum().sum()\n",
    "gangwon_han = 강원.iloc[:,[15,16,17,18]].sum().sum()\n",
    "seoul_han = 서울.iloc[:,[15,16,17,18]].sum().sum()\n",
    "daegu_han = 대구.iloc[:,[15,16,17,18]].sum().sum()\n",
    "gyeongnam_han = 경남.iloc[:,[15,16,17,18]].sum().sum()\n",
    "kyeonggi_han = 경기.iloc[:,[15,16,17,18]].sum().sum()\n",
    "chungnam_han = 충남.iloc[:,[15,16,17,18]].sum().sum()\n",
    "busan_han = 부산.iloc[:,[15,16,17,18]].sum().sum()\n",
    "jeonbuk_han = 전북.iloc[:,[15,16,17,18]].sum().sum()\n",
    "gwangju_han = 광주.iloc[:,[15,16,17,18]].sum().sum()\n",
    "daejeon_han = 대전.iloc[:,[15,16,17,18]].sum().sum()\n",
    "chungbuk_han = 충북.iloc[:,[15,16,17,18]].sum().sum()\n",
    "ulsan_han = 울산.iloc[:,[15,16,17,18]].sum().sum()\n",
    "jeonnam_han = 전남.iloc[:,[15,16,17,18]].sum().sum()\n",
    "gyeongbuk_han = 경북.iloc[:,[15,16,17,18]].sum().sum()\n",
    "sejong_han = 세종시.iloc[:,[15,16,17,18]].sum().sum()\n",
    "jeju_han = 제주.iloc[:,[15,16,17,18]].sum().sum()\n",
    "\n",
    "raw_data = {'지역' : ['인천', '강원', '서울', '대구', '경남', '경기', '충남', '부산', '전북', \n",
    "                    '광주', '대전', '충북', '울산', '전남', '경북', '세종시','제주'],\n",
    "           '한의과 의사수' : [incheon_han, gangwon_han, seoul_han, daegu_han, gyeongnam_han, kyeonggi_han, chungnam_han, busan_han,\n",
    "          jeonbuk_han, gwangju_han, daejeon_han, chungbuk_han, ulsan_han, jeonnam_han, gyeongbuk_han, sejong_han, jeju_han]}\n",
    "data_han = pd.DataFrame(raw_data)\n",
    "data_han = data_han.set_index(\"지역\")"
   ]
  },
  {
   "cell_type": "code",
   "execution_count": 41,
   "id": "6b8fd3f9",
   "metadata": {},
   "outputs": [],
   "source": [
    "doctor = pd.concat([doctor,data_han], axis =1)\n",
    "doctor['인구 당 한의과의 비율'] = (doctor['한의과 의사수'] / doctor['총 인구수']) *100"
   ]
  },
  {
   "cell_type": "code",
   "execution_count": 42,
   "id": "083244a6",
   "metadata": {},
   "outputs": [],
   "source": [
    "doctor = doctor.reset_index()\n",
    "doctor = doctor.rename(columns = {'index' : '지역'})"
   ]
  },
  {
   "cell_type": "markdown",
   "id": "789213d3",
   "metadata": {},
   "source": [
    "### 영유아, 노인"
   ]
  },
  {
   "cell_type": "code",
   "execution_count": 43,
   "id": "eca43c9a",
   "metadata": {},
   "outputs": [
    {
     "name": "stderr",
     "output_type": "stream",
     "text": [
      "C:\\Anaconda3\\lib\\site-packages\\IPython\\core\\interactiveshell.py:3146: DtypeWarning: Columns (14) have mixed types.Specify dtype option on import or set low_memory=False.\n",
      "  has_raised = await self.run_ast_nodes(code_ast.body, cell_name,\n"
     ]
    }
   ],
   "source": [
    "df3 = pd.read_csv('data/3. 의료기관별상세정보서비스 01시설정보 2022.3.csv', encoding='cp949')"
   ]
  },
  {
   "cell_type": "code",
   "execution_count": 44,
   "id": "13e01ca3",
   "metadata": {},
   "outputs": [],
   "source": [
    "con = df3[df3['종별코드명'] == '요양병원']"
   ]
  },
  {
   "cell_type": "code",
   "execution_count": 45,
   "id": "58e1fe1a",
   "metadata": {},
   "outputs": [],
   "source": [
    "old1 = con.groupby(['시도코드명'])[['종별코드명']].count().reset_index()\n",
    "old1 = old1.rename(columns={'종별코드명':'요양병원개수'})"
   ]
  },
  {
   "cell_type": "code",
   "execution_count": 46,
   "id": "8ef44462",
   "metadata": {},
   "outputs": [],
   "source": [
    "young1=df3.groupby(['시도코드명'])[['소아중환자병상수','신생아중환자병상수','분만실병상수']].sum().reset_index()"
   ]
  },
  {
   "cell_type": "code",
   "execution_count": 47,
   "id": "52952227",
   "metadata": {},
   "outputs": [],
   "source": [
    "age_hos = pd.merge(young1, old1, on='시도코드명')"
   ]
  },
  {
   "cell_type": "code",
   "execution_count": 48,
   "id": "a6124a89",
   "metadata": {},
   "outputs": [],
   "source": [
    "old_age = pd.read_csv('data/연장자.csv' , encoding='cp949')"
   ]
  },
  {
   "cell_type": "code",
   "execution_count": 49,
   "id": "ae301569",
   "metadata": {},
   "outputs": [],
   "source": [
    "old_age['행정구역'][0]='전국'\n",
    "old_age['행정구역'][1]='서울'\n",
    "old_age['행정구역'][2]='부산'\n",
    "old_age['행정구역'][3]='대구'\n",
    "old_age['행정구역'][4]='인천'\n",
    "old_age['행정구역'][5]='광주'\n",
    "old_age['행정구역'][6]='대전'\n",
    "old_age['행정구역'][7]='울산'\n",
    "old_age['행정구역'][8]='세종시'\n",
    "old_age['행정구역'][9]='경기'\n",
    "old_age['행정구역'][10]='강원'\n",
    "old_age['행정구역'][11]='충북'\n",
    "old_age['행정구역'][12]='충남'\n",
    "old_age['행정구역'][13]='전북'\n",
    "old_age['행정구역'][14]='전남'\n",
    "old_age['행정구역'][15]='경북'\n",
    "old_age['행정구역'][16]='경남'\n",
    "old_age['행정구역'][17]='제주'\n",
    "old_age = old_age.set_index('행정구역')\n",
    "old_age = old_age.drop('전국')\n",
    "old_age = old_age.reset_index()\n",
    "old_age.rename(columns = {'2022년03월_계_연령구간인구수': '총노인인구수'}, inplace = True)"
   ]
  },
  {
   "cell_type": "code",
   "execution_count": 50,
   "id": "0d02d93b",
   "metadata": {
    "scrolled": true
   },
   "outputs": [],
   "source": [
    "old = old_age[['총노인인구수','행정구역']]"
   ]
  },
  {
   "cell_type": "code",
   "execution_count": 51,
   "id": "f6703f93",
   "metadata": {},
   "outputs": [],
   "source": [
    "young_age = pd.read_csv('data/영유아.csv' , encoding='cp949')"
   ]
  },
  {
   "cell_type": "code",
   "execution_count": 52,
   "id": "808ff10b",
   "metadata": {},
   "outputs": [],
   "source": [
    "young_age['행정구역'][0]='전국'\n",
    "young_age['행정구역'][1]='서울'\n",
    "young_age['행정구역'][2]='부산'\n",
    "young_age['행정구역'][3]='대구'\n",
    "young_age['행정구역'][4]='인천'\n",
    "young_age['행정구역'][5]='광주'\n",
    "young_age['행정구역'][6]='대전'\n",
    "young_age['행정구역'][7]='울산'\n",
    "young_age['행정구역'][8]='세종시'\n",
    "young_age['행정구역'][9]='경기'\n",
    "young_age['행정구역'][10]='강원'\n",
    "young_age['행정구역'][11]='충북'\n",
    "young_age['행정구역'][12]='충남'\n",
    "young_age['행정구역'][13]='전북'\n",
    "young_age['행정구역'][14]='전남'\n",
    "young_age['행정구역'][15]='경북'\n",
    "young_age['행정구역'][16]='경남'\n",
    "young_age['행정구역'][17]='제주'\n",
    "young_age=young_age.set_index('행정구역')\n",
    "young_age=young_age.drop('전국')\n",
    "young_age=young_age.reset_index()\n",
    "young_age.rename(columns = {'2022년03월_계_0세': '영유아인구수'}, inplace = True)"
   ]
  },
  {
   "cell_type": "code",
   "execution_count": 53,
   "id": "6d104001",
   "metadata": {},
   "outputs": [],
   "source": [
    "baby = young_age[['영유아인구수','행정구역']]"
   ]
  },
  {
   "cell_type": "code",
   "execution_count": 54,
   "id": "794e695c",
   "metadata": {},
   "outputs": [],
   "source": [
    "age_pop = pop.set_index('행정구역')\n",
    "age_pop = age_pop.drop('전국')\n",
    "age_pop = age_pop.reset_index()\n",
    "age_pop = age_pop.rename(columns={'10세 미만':'소아인구수'})\n",
    "child = age_pop[['행정구역', '소아인구수', '총 인구수']]"
   ]
  },
  {
   "cell_type": "code",
   "execution_count": 55,
   "id": "59d44b62",
   "metadata": {},
   "outputs": [
    {
     "name": "stderr",
     "output_type": "stream",
     "text": [
      "C:\\Anaconda3\\lib\\site-packages\\pandas\\core\\frame.py:4296: SettingWithCopyWarning: \n",
      "A value is trying to be set on a copy of a slice from a DataFrame\n",
      "\n",
      "See the caveats in the documentation: https://pandas.pydata.org/pandas-docs/stable/user_guide/indexing.html#returning-a-view-versus-a-copy\n",
      "  return super().rename(\n"
     ]
    }
   ],
   "source": [
    "child.rename(columns = {'행정구역': '시도코드명'}, inplace = True)\n",
    "baby.rename(columns = {'행정구역': '시도코드명'}, inplace = True)\n",
    "old.rename(columns = {'행정구역': '시도코드명'}, inplace = True)"
   ]
  },
  {
   "cell_type": "code",
   "execution_count": 56,
   "id": "b880d4fc",
   "metadata": {
    "scrolled": true
   },
   "outputs": [],
   "source": [
    "age_total = pd.merge(age_hos, old, on='시도코드명')\n",
    "age_total = pd.merge(age_total, baby, on='시도코드명')\n",
    "age_total = pd.merge(age_total, child, on='시도코드명')"
   ]
  },
  {
   "cell_type": "code",
   "execution_count": 57,
   "id": "033e7835",
   "metadata": {},
   "outputs": [],
   "source": [
    "age_total.rename(columns = {'총노인인구수': '총노인인구수(65세이상)','영유아인구수':'영유아인구수(0세)','소아인구수':'소아인구수(0~9세)'}, inplace = True)"
   ]
  },
  {
   "cell_type": "code",
   "execution_count": 58,
   "id": "d7e14ed9",
   "metadata": {},
   "outputs": [],
   "source": [
    "age_total['영유아인구수(0세)'] = age_total['영유아인구수(0세)'].str.replace(',', '')\n",
    "age_total['총노인인구수(65세이상)'] = age_total['총노인인구수(65세이상)'].str.replace(',', '')\n",
    "\n",
    "age_total['총노인인구수(65세이상)'] = age_total['총노인인구수(65세이상)'].astype('int')\n",
    "age_total['영유아인구수(0세)'] = age_total['영유아인구수(0세)'].astype('int')"
   ]
  },
  {
   "cell_type": "code",
   "execution_count": 59,
   "id": "00009108",
   "metadata": {
    "scrolled": true
   },
   "outputs": [],
   "source": [
    "age_total['신생아중환자병상비율']=age_total['신생아중환자병상수']/age_total['영유아인구수(0세)']\n",
    "age_total['노인요양병원비율']=age_total['요양병원개수']/age_total['총노인인구수(65세이상)']"
   ]
  },
  {
   "cell_type": "markdown",
   "id": "4191e095",
   "metadata": {},
   "source": [
    "### 전문병원데이터"
   ]
  },
  {
   "cell_type": "code",
   "execution_count": 60,
   "id": "771d581a",
   "metadata": {},
   "outputs": [],
   "source": [
    "df9 = pd.read_csv('data/11. 의료기관별상세정보서비스 09전문병원지정분야 2022.3.csv', encoding='euc-kr')\n",
    "df9 = df9.drop_duplicates()"
   ]
  },
  {
   "cell_type": "code",
   "execution_count": 61,
   "id": "cf0ab053",
   "metadata": {},
   "outputs": [],
   "source": [
    "sp = df1[['암호화요양기호', '요양기관명', '종별코드명', '시도코드명', '시도_군구', 'x좌표', 'y좌표']]\n",
    "sp = pd.merge(sp, df9, how='right', on='암호화요양기호')\n",
    "sp = sp.drop('요양기관명_y', axis=1)\n",
    "sp = sp.drop('암호화요양기호', axis=1)\n",
    "sp = sp.rename(columns = {'요양기관명_x':'요양기관명'})"
   ]
  },
  {
   "cell_type": "markdown",
   "id": "5ba08ab4",
   "metadata": {},
   "source": [
    "### 병원데이터 정리"
   ]
  },
  {
   "cell_type": "code",
   "execution_count": 62,
   "id": "71f7b972",
   "metadata": {
    "scrolled": true
   },
   "outputs": [],
   "source": [
    "df = df1[['종별코드명', '시도코드명', '총의사수', 'x좌표', 'y좌표']]\n",
    "df = df.rename(columns = {'x좌표':'lon', 'y좌표':'lat'})\n",
    "location = df.dropna()"
   ]
  },
  {
   "cell_type": "markdown",
   "id": "57df8a30",
   "metadata": {},
   "source": [
    "# <span style=\"color:blue\"> *****Data App*****"
   ]
  },
  {
   "cell_type": "code",
   "execution_count": 63,
   "id": "7cf95fd8",
   "metadata": {},
   "outputs": [
    {
     "name": "stderr",
     "output_type": "stream",
     "text": [
      "2022-06-12 16:45:37.967 \n",
      "  \u001b[33m\u001b[1mWarning:\u001b[0m to view this Streamlit app on a browser, run it with the following\n",
      "  command:\n",
      "\n",
      "    streamlit run C:\\Anaconda3\\lib\\site-packages\\ipykernel_launcher.py [ARGUMENTS]\n"
     ]
    }
   ],
   "source": [
    "# 기본 설정\n",
    "\n",
    "st.set_page_config(page_title='Hospital Dashboard',\n",
    "                  page_icon = '🏥', layout='wide')\n",
    "\n",
    "st.title('Hospital Dashboard')\n",
    "\n",
    "if st.button('새로고침'):\n",
    "    st.experimental_rerun()"
   ]
  },
  {
   "cell_type": "code",
   "execution_count": 64,
   "id": "60be58ce",
   "metadata": {},
   "outputs": [],
   "source": [
    "# 원본 데이터 살려놓기\n",
    "\n",
    "my_df = df.copy()\n",
    "my_doctor = doctor.copy()\n",
    "my_sub = sub.copy()\n",
    "my_em = em.copy()\n",
    "my_sp = sp.copy()\n",
    "my_location = location.copy()\n",
    "my_age_total = age_total.copy()"
   ]
  },
  {
   "cell_type": "code",
   "execution_count": 65,
   "id": "54a0bd69",
   "metadata": {},
   "outputs": [
    {
     "data": {
      "text/plain": [
       "DeltaGenerator(_root_container=1, _provided_cursor=None, _parent=DeltaGenerator(_root_container=0, _provided_cursor=None, _parent=None, _block_type=None, _form_data=None), _block_type=None, _form_data=None)"
      ]
     },
     "execution_count": 65,
     "metadata": {},
     "output_type": "execute_result"
    }
   ],
   "source": [
    "# 사이드바 설정\n",
    "\n",
    "st.sidebar.title('조건 필터')\n",
    "st.sidebar.header('종별코드 선택')"
   ]
  },
  {
   "cell_type": "code",
   "execution_count": 66,
   "id": "57224b04",
   "metadata": {},
   "outputs": [],
   "source": [
    "# 사이드바 선택으로 데이터 필터링\n",
    "\n",
    "side_option = st.sidebar.multiselect('종별코드명', (df['종별코드명'].unique()),\n",
    "                                    default=(df['종별코드명'].unique()))\n",
    "\n",
    "my_df = my_df[my_df['종별코드명'].isin(side_option)]\n",
    "my_sub = my_sub[my_sub['종별코드명'].isin(side_option)]\n",
    "my_em = my_em[my_em['종별코드명'].isin(side_option)]\n",
    "my_sp = my_sp[my_sp['종별코드명'].isin(side_option)]\n",
    "my_location = my_location[my_location['종별코드명'].isin(side_option)]"
   ]
  },
  {
   "cell_type": "code",
   "execution_count": 67,
   "id": "34303ca6",
   "metadata": {},
   "outputs": [
    {
     "data": {
      "text/plain": [
       "'DeltaGenerator(_root_container=0, _provided_cursor=None, _parent=None, _block_type=None, _form_data=None)'"
      ]
     },
     "execution_count": 67,
     "metadata": {},
     "output_type": "execute_result"
    }
   ],
   "source": [
    "st.header('0. Overview')\n",
    "\n",
    "col = ['외과 의사수', '치과 의사수',' 한의과 의사수']\n",
    "col1, col2 = st.columns(2)\n",
    "\n",
    "col1.metric(label = \"전국 의료시설 수\", value = my_df['종별코드명'].count().sum())\n",
    "col2.metric(label = \"전국 의사 수\", value = my_df['총의사수'].sum() )"
   ]
  },
  {
   "cell_type": "code",
   "execution_count": 68,
   "id": "02a42d96",
   "metadata": {},
   "outputs": [
    {
     "data": {
      "text/plain": [
       "DeltaGenerator(_root_container=0, _provided_cursor=None, _parent=None, _block_type=None, _form_data=None)"
      ]
     },
     "execution_count": 68,
     "metadata": {},
     "output_type": "execute_result"
    }
   ],
   "source": [
    "st.write('지역별분포')\n",
    "jit = np.random.randn(len(my_location), 2)\n",
    "jit_ratio = 0.01\n",
    "my_location[['lat','lon']] = my_location[['lat','lon']] + jit*jit_ratio\n",
    "st.map(my_location)"
   ]
  },
  {
   "cell_type": "code",
   "execution_count": 69,
   "id": "2f45636a",
   "metadata": {},
   "outputs": [
    {
     "data": {
      "text/plain": [
       "DeltaGenerator(_root_container=0, _provided_cursor=None, _parent=None, _block_type=None, _form_data=None)"
      ]
     },
     "execution_count": 69,
     "metadata": {},
     "output_type": "execute_result"
    }
   ],
   "source": [
    "st.header('1. 진료과목')"
   ]
  },
  {
   "cell_type": "code",
   "execution_count": 70,
   "id": "5690c3e5",
   "metadata": {
    "scrolled": true
   },
   "outputs": [
    {
     "data": {
      "image/png": "[encoded data removed]",
      "text/plain": [
       "<Figure size 432x288 with 1 Axes>"
      ]
     },
     "metadata": {},
     "output_type": "display_data"
    }
   ],
   "source": [
    "st.subheader('진료과목 비교')\n",
    "\n",
    "city_range = st.selectbox(label=\"지역선택\", options=('서울', '경기','부산','경남','인천','대구','경북','대전','전북','충남','전남','광주','충북','강원','울산','제주','세종시'), index=0)\n",
    "\n",
    "my_sub_city = my_sub[my_sub['시도'] == city_range]\n",
    "my_sub_city = my_sub_city['진료과목'].value_counts().reset_index()\n",
    "my_sub_city.columns=['진료과목', '진료과목 수']\n",
    "sub_top = my_sub_city.head()\n",
    "sub_tail = my_sub_city.tail()\n",
    "sub_top_tail = pd.concat([sub_top, sub_tail])\n",
    "\n",
    "col1, col2 = st.columns(2)\n",
    "with col1:\n",
    "    st.write('진료과목 수 상위, 하위 5개')\n",
    "    fig = plt.figure()\n",
    "    sns.barplot(data = sub_top_tail, x='진료과목 수', y='진료과목')\n",
    "    plt.xlabel(None)\n",
    "    plt.ylabel(None)\n",
    "    st.pyplot(fig)"
   ]
  },
  {
   "cell_type": "code",
   "execution_count": 71,
   "id": "9c168599",
   "metadata": {},
   "outputs": [
    {
     "data": {
      "text/plain": [
       "DeltaGenerator(_root_container=0, _provided_cursor=None, _parent=None, _block_type=None, _form_data=None)"
      ]
     },
     "execution_count": 71,
     "metadata": {},
     "output_type": "execute_result"
    }
   ],
   "source": [
    "st.header('2. 지역별 비교')"
   ]
  },
  {
   "cell_type": "code",
   "execution_count": 72,
   "id": "e5ffb2ea",
   "metadata": {
    "scrolled": true
   },
   "outputs": [],
   "source": [
    "# 지역 선택\n",
    "\n",
    "region = st.multiselect('지역', (my_df['시도코드명'].unique()),\n",
    "                                    default=(my_df['시도코드명'].unique()))"
   ]
  },
  {
   "cell_type": "code",
   "execution_count": 73,
   "id": "dcd85234",
   "metadata": {},
   "outputs": [
    {
     "data": {
      "text/plain": [
       "DeltaGenerator(_root_container=0, _provided_cursor=None, _parent=None, _block_type=None, _form_data=None)"
      ]
     },
     "execution_count": 73,
     "metadata": {},
     "output_type": "execute_result"
    }
   ],
   "source": [
    "st.subheader('의료시설')"
   ]
  },
  {
   "cell_type": "code",
   "execution_count": 74,
   "id": "290e661c",
   "metadata": {},
   "outputs": [],
   "source": [
    "# 선택한 지역 데이터 필터링\n",
    "\n",
    "my_df_region = my_df[my_df['시도코드명'].isin(region)]"
   ]
  },
  {
   "cell_type": "code",
   "execution_count": 75,
   "id": "0c5f1ad2",
   "metadata": {},
   "outputs": [
    {
     "data": {
      "image/png": "[encoded data removed]",
      "text/plain": [
       "<Figure size 432x288 with 1 Axes>"
      ]
     },
     "metadata": {},
     "output_type": "display_data"
    }
   ],
   "source": [
    "col1, col2 = st.columns(2)\n",
    "\n",
    "d1 = my_df_region['시도코드명'].value_counts()\n",
    "d1 = d1.reset_index()\n",
    "d1.columns = ['시도코드명', '총 병원수']\n",
    "    \n",
    "with col1:\n",
    "    st.write('총 의료시설 수')\n",
    "    fig = plt.figure()\n",
    "    sns.barplot(data=d1, x='시도코드명', y='총 병원수')\n",
    "    plt.xticks(rotation=45)\n",
    "    plt.xlabel(None)\n",
    "    plt.ylabel(None)\n",
    "    \n",
    "    st.pyplot(fig)"
   ]
  },
  {
   "cell_type": "code",
   "execution_count": 76,
   "id": "21751ed2",
   "metadata": {},
   "outputs": [
    {
     "data": {
      "image/png": "[encoded data removed]",
      "text/plain": [
       "<Figure size 432x288 with 1 Axes>"
      ]
     },
     "metadata": {},
     "output_type": "display_data"
    }
   ],
   "source": [
    "col1, col2 = st.columns(2)\n",
    "\n",
    "hos_count = my_df_region.groupby('시도코드명')['종별코드명'].count().reset_index()\n",
    "hos_count = hos_count.rename(columns={'종별코드명':'의료시설 수'})\n",
    "pop_total2 = pop_total.reset_index()\n",
    "pop_total2 = pop_total2.rename(columns = {'행정구역':'시도코드명'})\n",
    "hos_ratio = pd.merge(hos_count, pop_total2)\n",
    "hos_ratio['인구 대비 병원 비율'] = (hos_ratio['의료시설 수'] / hos_ratio['총 인구수'])\n",
    "hos_ratio = hos_ratio.sort_values(by='인구 대비 병원 비율', ascending=False)\n",
    "    \n",
    "with col1:\n",
    "    st.write('인구 수 대비 의료시설 비율')\n",
    "    fig = plt.figure()\n",
    "    sns.barplot(data=hos_ratio, x='시도코드명', y='인구 대비 병원 비율')\n",
    "    plt.xticks(rotation=45)\n",
    "    plt.xlabel(None)\n",
    "    plt.ylabel(None)\n",
    "    plt.ylim(0.00075, 0.002)\n",
    "    \n",
    "    st.pyplot(fig)"
   ]
  },
  {
   "cell_type": "code",
   "execution_count": 77,
   "id": "4ecb5160",
   "metadata": {},
   "outputs": [
    {
     "data": {
      "text/plain": [
       "DeltaGenerator(_root_container=0, _provided_cursor=None, _parent=None, _block_type=None, _form_data=None)"
      ]
     },
     "execution_count": 77,
     "metadata": {},
     "output_type": "execute_result"
    }
   ],
   "source": [
    "st.subheader('의사')"
   ]
  },
  {
   "cell_type": "code",
   "execution_count": 78,
   "id": "7f054750",
   "metadata": {},
   "outputs": [],
   "source": [
    "doctor_region = my_doctor[my_doctor['지역'].isin(region)]"
   ]
  },
  {
   "cell_type": "code",
   "execution_count": 79,
   "id": "307c7077",
   "metadata": {
    "scrolled": true
   },
   "outputs": [
    {
     "data": {
      "image/png": "[encoded data removed]",
      "text/plain": [
       "<Figure size 432x288 with 1 Axes>"
      ]
     },
     "metadata": {},
     "output_type": "display_data"
    },
    {
     "data": {
      "image/png": "[encoded data removed]",
      "text/plain": [
       "<Figure size 432x288 with 1 Axes>"
      ]
     },
     "metadata": {},
     "output_type": "display_data"
    },
    {
     "data": {
      "image/png": "[encoded data removed]",
      "text/plain": [
       "<Figure size 432x288 with 1 Axes>"
      ]
     },
     "metadata": {},
     "output_type": "display_data"
    }
   ],
   "source": [
    "st.write('의사 수 많은 지역 상위, 하위 3개 비교')\n",
    "\n",
    "def top3(col_name, top=3):\n",
    "    doctor_region_top = doctor_region.sort_values(col_name, ascending=False).head(top)\n",
    "    doctor_region_tail = doctor_region.sort_values(col_name, ascending=False).tail(top)\n",
    "    doctor_region_doc = pd.concat([doctor_region_top,doctor_region_tail])\n",
    "    fig = plt.figure()\n",
    "    ax = sns.barplot(x=col_name, y='지역', data=doctor_region_doc)\n",
    "\n",
    "    #ax.bar_label(ax.containers[0], label_type='center', color='white')\n",
    "    return fig\n",
    "\n",
    "col1, col2, col3 = st.columns(3)\n",
    "with col1:\n",
    "    st.write('외과의 비율')\n",
    "    st.pyplot(top3('인구 당 외과의 비율'))\n",
    "with col2:\n",
    "    st.write('치과의 비율')\n",
    "    st.pyplot(top3('인구 당 치과의 비율'))\n",
    "with col3:\n",
    "    st.write('한의과의 비율')\n",
    "    st.pyplot(top3('인구 당 한의과의 비율'))"
   ]
  },
  {
   "cell_type": "code",
   "execution_count": 80,
   "id": "66563131",
   "metadata": {
    "scrolled": true
   },
   "outputs": [
    {
     "data": {
      "text/plain": [
       "DeltaGenerator(_root_container=0, _provided_cursor=None, _parent=None, _block_type=None, _form_data=None)"
      ]
     },
     "execution_count": 80,
     "metadata": {},
     "output_type": "execute_result"
    }
   ],
   "source": [
    "st.subheader('소아 병상')"
   ]
  },
  {
   "cell_type": "code",
   "execution_count": 81,
   "id": "2d3dc2fc",
   "metadata": {
    "scrolled": true
   },
   "outputs": [],
   "source": [
    "# 선택한 지역 데이터 필터링\n",
    "\n",
    "age_region = my_age_total[my_age_total['시도코드명'].isin(region)]"
   ]
  },
  {
   "cell_type": "code",
   "execution_count": 82,
   "id": "7aa6f6ee",
   "metadata": {},
   "outputs": [
    {
     "data": {
      "image/png": "[encoded data removed]",
      "text/plain": [
       "<Figure size 432x288 with 1 Axes>"
      ]
     },
     "metadata": {},
     "output_type": "display_data"
    }
   ],
   "source": [
    "col1, co2 = st.columns(2)\n",
    "\n",
    "with col1:\n",
    "    st.write('소아중환자 병상 수')\n",
    "    fig = plt.figure()\n",
    "    a = age_region.sort_values(by='소아중환자병상수', ascending=False)\n",
    "    sns.barplot(data=a, x='시도코드명', y='소아중환자병상수')\n",
    "    plt.xticks(rotation=45)\n",
    "    plt.xlabel(None)\n",
    "    plt.ylabel(None)\n",
    "    \n",
    "    st.pyplot(fig)"
   ]
  },
  {
   "cell_type": "code",
   "execution_count": 83,
   "id": "894cb958",
   "metadata": {},
   "outputs": [
    {
     "data": {
      "text/plain": [
       "DeltaGenerator(_root_container=0, _provided_cursor=None, _parent=None, _block_type=None, _form_data=None)"
      ]
     },
     "execution_count": 83,
     "metadata": {},
     "output_type": "execute_result"
    }
   ],
   "source": [
    "st.subheader('요양병원')"
   ]
  },
  {
   "cell_type": "code",
   "execution_count": 84,
   "id": "76da2aa0",
   "metadata": {},
   "outputs": [
    {
     "data": {
      "image/png": "[encoded data removed]",
      "text/plain": [
       "<Figure size 432x288 with 1 Axes>"
      ]
     },
     "metadata": {},
     "output_type": "display_data"
    }
   ],
   "source": [
    "col1, co2 = st.columns(2)\n",
    "\n",
    "with col1:\n",
    "    st.write('요양병원 수')\n",
    "    fig = plt.figure()\n",
    "    a1 = age_region.sort_values(by='요양병원개수', ascending=False)\n",
    "    sns.barplot(data=a1, x='시도코드명', y='요양병원개수')\n",
    "    plt.xticks(rotation=45)\n",
    "    plt.xlabel(None)\n",
    "    plt.ylabel(None)\n",
    "    \n",
    "    st.pyplot(fig)"
   ]
  },
  {
   "cell_type": "code",
   "execution_count": 85,
   "id": "07c91fdf",
   "metadata": {},
   "outputs": [
    {
     "data": {
      "image/png": "[encoded data removed]",
      "text/plain": [
       "<Figure size 432x288 with 1 Axes>"
      ]
     },
     "metadata": {},
     "output_type": "display_data"
    }
   ],
   "source": [
    "col1, co2 = st.columns(2)\n",
    "\n",
    "with col1:\n",
    "    st.write('노인 수 대비 요양병원 비율')\n",
    "    fig = plt.figure()\n",
    "    a2 = age_region.sort_values(by='노인요양병원비율', ascending=False)\n",
    "    sns.barplot(data=a2, x='시도코드명', y='노인요양병원비율')\n",
    "    plt.xticks(rotation=45)\n",
    "    plt.xlabel(None)\n",
    "    plt.ylabel(None)\n",
    "    \n",
    "    st.pyplot(fig)"
   ]
  },
  {
   "cell_type": "code",
   "execution_count": 86,
   "id": "0cfd9841",
   "metadata": {},
   "outputs": [
    {
     "data": {
      "text/plain": [
       "DeltaGenerator(_root_container=0, _provided_cursor=None, _parent=None, _block_type=None, _form_data=None)"
      ]
     },
     "execution_count": 86,
     "metadata": {},
     "output_type": "execute_result"
    }
   ],
   "source": [
    "st.subheader('응급실')"
   ]
  },
  {
   "cell_type": "code",
   "execution_count": 87,
   "id": "55bb0097",
   "metadata": {},
   "outputs": [],
   "source": [
    "# 선택한 지역 데이터 필터링\n",
    "\n",
    "my_em_region = my_em[my_em['시도'].isin(region)]"
   ]
  },
  {
   "cell_type": "code",
   "execution_count": 88,
   "id": "f89b95f6",
   "metadata": {},
   "outputs": [],
   "source": [
    "col1, col2 = st.columns(2)\n",
    "\n",
    "# 주간/야간 선택\n",
    "with col1:\n",
    "    em_time = st.radio(label='운영 시간대 선택',\n",
    "                      options=('주간 운영', '야간 운영', '주간/야간 운영'),\n",
    "                      index=0)\n",
    "    \n",
    "c1 = (my_em_region['응급실 주간운영여부'] == 'Y')\n",
    "c2 = (my_em_region['응급실 야간운영여부'] == 'Y')\n",
    "em_count = my_em_region['응급실 주간운영여부'].count()\n",
    "\n",
    "if em_time == '주간 운영':\n",
    "    open_value = ((c1).sum() / em_count)\n",
    "    open_value2 = round(open_value * 100, 3)\n",
    "    \n",
    "elif em_time == '야간 운영':\n",
    "    open_value = ((c2).sum() / em_count)\n",
    "    open_value2 = round(open_value * 100, 3)\n",
    "    \n",
    "else:\n",
    "    open_value = ((c1&c2).sum() / em_count)\n",
    "    open_value2 = round(open_value * 100, 3)\n",
    "\n",
    "with col2:\n",
    "    st.metric(label='응급실 수', value = int(open_value * em_count))\n",
    "    st.metric(label = '응급실 운영 병원 비율(%)', value = open_value2)"
   ]
  },
  {
   "cell_type": "code",
   "execution_count": 89,
   "id": "8fc7b0c7",
   "metadata": {},
   "outputs": [],
   "source": [
    "st.write('응급실 수')"
   ]
  },
  {
   "cell_type": "code",
   "execution_count": 90,
   "id": "b503f6ac",
   "metadata": {
    "scrolled": true
   },
   "outputs": [
    {
     "data": {
      "image/png": "[encoded data removed]",
      "text/plain": [
       "<Figure size 432x288 with 1 Axes>"
      ]
     },
     "metadata": {},
     "output_type": "display_data"
    }
   ],
   "source": [
    "col1, col2 = st.columns(2)\n",
    "\n",
    "if em_time == '주간 운영':\n",
    "    my_em_region2 = my_em_region[c1]\n",
    "elif em_time == '야간 운영':\n",
    "    my_em_region2 = my_em_region[c2]\n",
    "else:\n",
    "    my_em_region2 = my_em_region[c1&c2]\n",
    "\n",
    "        \n",
    "with col1:\n",
    "    fig = plt.figure()\n",
    "    e1 = my_em_region2['시도'].value_counts().reset_index()\n",
    "    e1.columns = ['시도', '응급실 수']\n",
    "    sns.barplot(data = e1, x='시도', y='응급실 수')\n",
    "    plt.xticks(rotation=45)\n",
    "    plt.xlabel(None)\n",
    "    plt.ylabel(None)\n",
    "    \n",
    "    st.pyplot(fig)"
   ]
  },
  {
   "cell_type": "code",
   "execution_count": 91,
   "id": "bbc034b6",
   "metadata": {},
   "outputs": [
    {
     "data": {
      "text/plain": [
       "DeltaGenerator(_root_container=0, _provided_cursor=None, _parent=None, _block_type=None, _form_data=None)"
      ]
     },
     "execution_count": 91,
     "metadata": {},
     "output_type": "execute_result"
    }
   ],
   "source": [
    "st.subheader('전문병원')"
   ]
  },
  {
   "cell_type": "code",
   "execution_count": 92,
   "id": "3c5f9395",
   "metadata": {},
   "outputs": [],
   "source": [
    "sp_count = my_sp['시도코드명'].value_counts().reset_index()\n",
    "sp_count.columns = ['시도', '전문병원 수']\n",
    "\n",
    "sp_count = sp_count.append({'시도':'강원', '전문병원 수':0}, ignore_index=True)\n",
    "sp_count = sp_count.append({'시도':'충남', '전문병원 수':0}, ignore_index=True)\n",
    "sp_count = sp_count.append({'시도':'제주', '전문병원 수':0}, ignore_index=True)\n",
    "\n",
    "\n",
    "# 선택한 지역 데이터 필터링\n",
    "sp_region = sp_count[sp_count['시도'].isin(region)]"
   ]
  },
  {
   "cell_type": "code",
   "execution_count": 93,
   "id": "e4efc0fb",
   "metadata": {},
   "outputs": [
    {
     "data": {
      "image/png": "[encoded data removed]",
      "text/plain": [
       "<Figure size 432x288 with 1 Axes>"
      ]
     },
     "metadata": {},
     "output_type": "display_data"
    }
   ],
   "source": [
    "col1, col2 = st.columns(2)\n",
    "\n",
    "with col1:\n",
    "    st.write('전문병원 수')\n",
    "    fig = plt.figure()\n",
    "\n",
    "    sns.barplot(data=sp_region, x='시도', y='전문병원 수')\n",
    "    plt.xlabel(None)\n",
    "    plt.ylabel(None)\n",
    "    plt.xticks(rotation=45)\n",
    "    \n",
    "    st.pyplot(fig)"
   ]
  },
  {
   "cell_type": "code",
   "execution_count": null,
   "id": "18e0eeed",
   "metadata": {},
   "outputs": [],
   "source": []
  }
 ],
 "metadata": {
  "kernelspec": {
   "display_name": "Python 3",
   "language": "python",
   "name": "python3"
  },
  "language_info": {
   "codemirror_mode": {
    "name": "ipython",
    "version": 3
   },
   "file_extension": ".py",
   "mimetype": "text/x-python",
   "name": "python",
   "nbconvert_exporter": "python",
   "pygments_lexer": "ipython3",
   "version": "3.8.5"
  }
 },
 "nbformat": 4,
 "nbformat_minor": 5
}
